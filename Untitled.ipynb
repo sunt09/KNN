{
 "cells": [
  {
   "cell_type": "code",
   "execution_count": 3,
   "id": "83be57e8-ee85-422d-8dde-8e7445ba501e",
   "metadata": {},
   "outputs": [],
   "source": [
    "import numpy as np\n",
    "# Assume we need a d dim vector of n points\n",
    "d = 10\n",
    "n = 100\n",
    "k = 3\n",
    "X = np.random.rand(d, n)"
   ]
  },
  {
   "cell_type": "code",
   "execution_count": 4,
   "id": "5974c71a-8f26-4078-8412-00cb91bc2be3",
   "metadata": {},
   "outputs": [
    {
     "name": "stdout",
     "output_type": "stream",
     "text": [
      "[0.48867391 0.0269947  0.95994413 0.01109833 0.13800558 0.99892631\n",
      " 0.0768021  0.8443716  0.9940267  0.01087161]\n"
     ]
    }
   ],
   "source": [
    "y = X[:, 1]\n",
    "print(y)"
   ]
  },
  {
   "cell_type": "code",
   "execution_count": null,
   "id": "f222767a-347f-40db-b308-ce6121ba28b0",
   "metadata": {},
   "outputs": [],
   "source": []
  }
 ],
 "metadata": {
  "kernelspec": {
   "display_name": "Python 3 (ipykernel)",
   "language": "python",
   "name": "python3"
  },
  "language_info": {
   "codemirror_mode": {
    "name": "ipython",
    "version": 3
   },
   "file_extension": ".py",
   "mimetype": "text/x-python",
   "name": "python",
   "nbconvert_exporter": "python",
   "pygments_lexer": "ipython3",
   "version": "3.9.13"
  }
 },
 "nbformat": 4,
 "nbformat_minor": 5
}
